{
  "nbformat": 4,
  "nbformat_minor": 0,
  "metadata": {
    "colab": {
      "provenance": []
    },
    "kernelspec": {
      "name": "python3",
      "display_name": "Python 3"
    },
    "language_info": {
      "name": "python"
    }
  },
  "cells": [
    {
      "cell_type": "code",
      "execution_count": null,
      "metadata": {
        "id": "-5uLwtJ48ucT"
      },
      "outputs": [],
      "source": [
        "import pandas as pd\n",
        "import numpy as np\n",
        "import matplotlib.pyplot as plt"
      ]
    },
    {
      "cell_type": "code",
      "source": [
        "df = pd.read_csv('/content/breast_cancer.csv')\n",
        "X = df.iloc[:,1:-1].values\n",
        "y = df.iloc[:,-1].values"
      ],
      "metadata": {
        "id": "QjOjR-Vz9Pxd"
      },
      "execution_count": null,
      "outputs": []
    },
    {
      "cell_type": "code",
      "source": [
        "count = df.isnull().sum()\n",
        "print(count)"
      ],
      "metadata": {
        "colab": {
          "base_uri": "https://localhost:8080/"
        },
        "id": "dvC0wst3BAKM",
        "outputId": "4df2a880-3658-4a28-bded-367c24a0d97a"
      },
      "execution_count": null,
      "outputs": [
        {
          "output_type": "stream",
          "name": "stdout",
          "text": [
            "Sample code number             0\n",
            "Clump Thickness                0\n",
            "Uniformity of Cell Size        0\n",
            "Uniformity of Cell Shape       0\n",
            "Marginal Adhesion              0\n",
            "Single Epithelial Cell Size    0\n",
            "Bare Nuclei                    0\n",
            "Bland Chromatin                0\n",
            "Normal Nucleoli                0\n",
            "Mitoses                        0\n",
            "Class                          0\n",
            "dtype: int64\n"
          ]
        }
      ]
    },
    {
      "cell_type": "code",
      "source": [
        "from sklearn.model_selection import train_test_split\n",
        "X_train, X_test, y_train, y_test = train_test_split(X,y, test_size = 0.2, random_state = 42)"
      ],
      "metadata": {
        "id": "tbFicCHCAesN"
      },
      "execution_count": null,
      "outputs": []
    },
    {
      "cell_type": "code",
      "source": [
        "print(X_train)"
      ],
      "metadata": {
        "colab": {
          "base_uri": "https://localhost:8080/"
        },
        "id": "TI0859kvBhAK",
        "outputId": "ac8d3fb5-c1ae-472a-c807-4b1146eaa8f6"
      },
      "execution_count": null,
      "outputs": [
        {
          "output_type": "stream",
          "name": "stdout",
          "text": [
            "[[ 3  1  1 ...  1  1  1]\n",
            " [ 7  9  4 ...  5  3  3]\n",
            " [ 5  2  4 ...  1  1  1]\n",
            " ...\n",
            " [10  5  7 ...  3  3  8]\n",
            " [ 4  1  1 ...  2  1  1]\n",
            " [10 10 10 ...  8  8  8]]\n"
          ]
        }
      ]
    },
    {
      "cell_type": "code",
      "source": [
        "print(y_train)"
      ],
      "metadata": {
        "colab": {
          "base_uri": "https://localhost:8080/"
        },
        "id": "thZsSt1lBj4H",
        "outputId": "ad3a71ba-8ccb-4fdf-e189-6558c696e876"
      },
      "execution_count": null,
      "outputs": [
        {
          "output_type": "stream",
          "name": "stdout",
          "text": [
            "[2 4 2 4 2 2 2 4 4 2 2 2 2 2 2 4 2 2 2 2 2 4 2 4 2 2 2 2 2 2 2 4 4 4 2 2 4\n",
            " 2 2 4 2 2 2 2 2 2 2 2 4 2 2 2 2 4 2 4 2 4 4 2 2 2 2 4 4 4 2 2 4 2 2 4 2 4\n",
            " 2 2 2 4 2 2 4 2 4 2 2 2 2 2 2 2 2 2 2 4 4 2 2 4 2 4 4 2 2 2 2 4 2 4 2 4 2\n",
            " 2 2 4 2 4 4 2 2 2 2 2 4 2 2 2 4 2 2 4 2 2 4 4 2 2 2 2 4 2 4 2 2 2 2 2 2 2\n",
            " 2 2 2 4 4 2 4 2 2 2 2 4 2 4 2 2 2 4 2 4 4 2 2 2 2 2 4 2 2 2 2 2 4 2 4 2 2\n",
            " 2 4 2 2 4 2 4 2 4 4 4 4 2 2 4 4 4 2 2 4 2 2 4 4 2 4 2 2 2 2 2 4 2 4 2 2 2\n",
            " 2 4 2 2 4 2 2 4 2 2 2 4 2 4 2 4 2 2 4 4 2 2 2 4 2 4 4 2 2 4 2 2 2 4 2 4 4\n",
            " 2 2 2 2 2 2 2 2 4 2 2 4 2 2 2 2 2 2 2 4 2 2 2 2 4 2 2 2 4 2 2 2 4 4 2 4 4\n",
            " 2 2 4 2 2 2 2 4 4 4 2 2 2 2 4 2 2 2 4 2 2 2 2 2 4 2 2 2 2 4 2 2 2 4 2 2 2\n",
            " 2 4 4 2 2 4 2 4 2 2 2 4 2 2 2 4 2 4 2 2 2 4 2 2 4 4 4 2 4 2 2 4 2 4 2 2 2\n",
            " 2 4 2 2 2 2 2 4 2 2 2 2 2 4 2 2 2 4 2 2 4 2 2 2 4 2 4 2 2 4 2 2 2 4 2 4 4\n",
            " 4 2 2 2 2 4 2 2 2 4 2 2 2 2 2 2 4 2 4 4 2 2 4 4 4 2 2 2 4 4 4 2 4 2 4 2 2\n",
            " 2 4 2 2 4 2 2 2 2 2 2 2 2 2 2 4 2 4 2 2 2 4 4 2 2 2 2 2 4 2 2 4 4 4 4 4 2\n",
            " 2 2 2 2 2 4 2 4 2 2 2 2 4 2 4 2 2 4 2 2 4 2 2 2 2 4 4 4 2 2 2 2 4 4 2 4 4\n",
            " 2 2 4 4 2 2 2 4 4 2 2 4 2 4 4 2 2 4 2 2 4 2 4 4 2 4 2 4]\n"
          ]
        }
      ]
    },
    {
      "cell_type": "code",
      "source": [
        "from sklearn.linear_model import LogisticRegression\n",
        "lr = LogisticRegression(random_state = 42)\n",
        "lr.fit(X,y)"
      ],
      "metadata": {
        "colab": {
          "base_uri": "https://localhost:8080/",
          "height": 75
        },
        "id": "k5Xm256IBK1M",
        "outputId": "3ba0d990-612f-43d2-b829-55a15e23bcdc"
      },
      "execution_count": null,
      "outputs": [
        {
          "output_type": "execute_result",
          "data": {
            "text/plain": [
              "LogisticRegression(random_state=42)"
            ],
            "text/html": [
              "<style>#sk-container-id-1 {color: black;background-color: white;}#sk-container-id-1 pre{padding: 0;}#sk-container-id-1 div.sk-toggleable {background-color: white;}#sk-container-id-1 label.sk-toggleable__label {cursor: pointer;display: block;width: 100%;margin-bottom: 0;padding: 0.3em;box-sizing: border-box;text-align: center;}#sk-container-id-1 label.sk-toggleable__label-arrow:before {content: \"▸\";float: left;margin-right: 0.25em;color: #696969;}#sk-container-id-1 label.sk-toggleable__label-arrow:hover:before {color: black;}#sk-container-id-1 div.sk-estimator:hover label.sk-toggleable__label-arrow:before {color: black;}#sk-container-id-1 div.sk-toggleable__content {max-height: 0;max-width: 0;overflow: hidden;text-align: left;background-color: #f0f8ff;}#sk-container-id-1 div.sk-toggleable__content pre {margin: 0.2em;color: black;border-radius: 0.25em;background-color: #f0f8ff;}#sk-container-id-1 input.sk-toggleable__control:checked~div.sk-toggleable__content {max-height: 200px;max-width: 100%;overflow: auto;}#sk-container-id-1 input.sk-toggleable__control:checked~label.sk-toggleable__label-arrow:before {content: \"▾\";}#sk-container-id-1 div.sk-estimator input.sk-toggleable__control:checked~label.sk-toggleable__label {background-color: #d4ebff;}#sk-container-id-1 div.sk-label input.sk-toggleable__control:checked~label.sk-toggleable__label {background-color: #d4ebff;}#sk-container-id-1 input.sk-hidden--visually {border: 0;clip: rect(1px 1px 1px 1px);clip: rect(1px, 1px, 1px, 1px);height: 1px;margin: -1px;overflow: hidden;padding: 0;position: absolute;width: 1px;}#sk-container-id-1 div.sk-estimator {font-family: monospace;background-color: #f0f8ff;border: 1px dotted black;border-radius: 0.25em;box-sizing: border-box;margin-bottom: 0.5em;}#sk-container-id-1 div.sk-estimator:hover {background-color: #d4ebff;}#sk-container-id-1 div.sk-parallel-item::after {content: \"\";width: 100%;border-bottom: 1px solid gray;flex-grow: 1;}#sk-container-id-1 div.sk-label:hover label.sk-toggleable__label {background-color: #d4ebff;}#sk-container-id-1 div.sk-serial::before {content: \"\";position: absolute;border-left: 1px solid gray;box-sizing: border-box;top: 0;bottom: 0;left: 50%;z-index: 0;}#sk-container-id-1 div.sk-serial {display: flex;flex-direction: column;align-items: center;background-color: white;padding-right: 0.2em;padding-left: 0.2em;position: relative;}#sk-container-id-1 div.sk-item {position: relative;z-index: 1;}#sk-container-id-1 div.sk-parallel {display: flex;align-items: stretch;justify-content: center;background-color: white;position: relative;}#sk-container-id-1 div.sk-item::before, #sk-container-id-1 div.sk-parallel-item::before {content: \"\";position: absolute;border-left: 1px solid gray;box-sizing: border-box;top: 0;bottom: 0;left: 50%;z-index: -1;}#sk-container-id-1 div.sk-parallel-item {display: flex;flex-direction: column;z-index: 1;position: relative;background-color: white;}#sk-container-id-1 div.sk-parallel-item:first-child::after {align-self: flex-end;width: 50%;}#sk-container-id-1 div.sk-parallel-item:last-child::after {align-self: flex-start;width: 50%;}#sk-container-id-1 div.sk-parallel-item:only-child::after {width: 0;}#sk-container-id-1 div.sk-dashed-wrapped {border: 1px dashed gray;margin: 0 0.4em 0.5em 0.4em;box-sizing: border-box;padding-bottom: 0.4em;background-color: white;}#sk-container-id-1 div.sk-label label {font-family: monospace;font-weight: bold;display: inline-block;line-height: 1.2em;}#sk-container-id-1 div.sk-label-container {text-align: center;}#sk-container-id-1 div.sk-container {/* jupyter's `normalize.less` sets `[hidden] { display: none; }` but bootstrap.min.css set `[hidden] { display: none !important; }` so we also need the `!important` here to be able to override the default hidden behavior on the sphinx rendered scikit-learn.org. See: https://github.com/scikit-learn/scikit-learn/issues/21755 */display: inline-block !important;position: relative;}#sk-container-id-1 div.sk-text-repr-fallback {display: none;}</style><div id=\"sk-container-id-1\" class=\"sk-top-container\"><div class=\"sk-text-repr-fallback\"><pre>LogisticRegression(random_state=42)</pre><b>In a Jupyter environment, please rerun this cell to show the HTML representation or trust the notebook. <br />On GitHub, the HTML representation is unable to render, please try loading this page with nbviewer.org.</b></div><div class=\"sk-container\" hidden><div class=\"sk-item\"><div class=\"sk-estimator sk-toggleable\"><input class=\"sk-toggleable__control sk-hidden--visually\" id=\"sk-estimator-id-1\" type=\"checkbox\" checked><label for=\"sk-estimator-id-1\" class=\"sk-toggleable__label sk-toggleable__label-arrow\">LogisticRegression</label><div class=\"sk-toggleable__content\"><pre>LogisticRegression(random_state=42)</pre></div></div></div></div></div>"
            ]
          },
          "metadata": {},
          "execution_count": 7
        }
      ]
    },
    {
      "cell_type": "code",
      "source": [
        "print(lr.predict([[5,1,1,1,2,1,3,1,1]]))"
      ],
      "metadata": {
        "colab": {
          "base_uri": "https://localhost:8080/"
        },
        "id": "f6Vr6zXlBpS_",
        "outputId": "a3453d9e-a77e-46f5-8cb6-756a691d3b4d"
      },
      "execution_count": null,
      "outputs": [
        {
          "output_type": "stream",
          "name": "stdout",
          "text": [
            "[2]\n"
          ]
        }
      ]
    },
    {
      "cell_type": "code",
      "source": [
        "y_pred = lr.predict(X_test)"
      ],
      "metadata": {
        "id": "Q3CgL-POB68d"
      },
      "execution_count": null,
      "outputs": []
    },
    {
      "cell_type": "code",
      "source": [
        "np.set_printoptions(precision=2)\n",
        "print(np.concatenate((y_pred.reshape(len(y_pred),1), y_test.reshape(len(y_test),1)),1))"
      ],
      "metadata": {
        "colab": {
          "base_uri": "https://localhost:8080/"
        },
        "id": "G8SgtziLCB6z",
        "outputId": "7ae8f984-a0e8-4ab1-c5f1-22edec3d2c5e"
      },
      "execution_count": null,
      "outputs": [
        {
          "output_type": "stream",
          "name": "stdout",
          "text": [
            "[[4 4]\n",
            " [4 4]\n",
            " [2 2]\n",
            " [2 2]\n",
            " [2 2]\n",
            " [2 2]\n",
            " [2 2]\n",
            " [2 2]\n",
            " [4 4]\n",
            " [2 2]\n",
            " [2 2]\n",
            " [2 2]\n",
            " [2 2]\n",
            " [2 2]\n",
            " [2 4]\n",
            " [4 4]\n",
            " [2 2]\n",
            " [4 4]\n",
            " [2 2]\n",
            " [4 4]\n",
            " [4 4]\n",
            " [2 2]\n",
            " [4 4]\n",
            " [2 2]\n",
            " [2 2]\n",
            " [2 2]\n",
            " [4 4]\n",
            " [4 4]\n",
            " [2 2]\n",
            " [4 4]\n",
            " [2 2]\n",
            " [4 4]\n",
            " [4 4]\n",
            " [4 4]\n",
            " [2 2]\n",
            " [2 2]\n",
            " [4 4]\n",
            " [2 2]\n",
            " [4 4]\n",
            " [4 4]\n",
            " [2 2]\n",
            " [4 4]\n",
            " [4 4]\n",
            " [2 2]\n",
            " [2 2]\n",
            " [4 4]\n",
            " [2 2]\n",
            " [4 4]\n",
            " [2 2]\n",
            " [4 4]\n",
            " [2 2]\n",
            " [2 2]\n",
            " [2 2]\n",
            " [4 4]\n",
            " [2 2]\n",
            " [4 4]\n",
            " [4 4]\n",
            " [2 2]\n",
            " [2 2]\n",
            " [4 4]\n",
            " [2 2]\n",
            " [2 2]\n",
            " [2 2]\n",
            " [4 4]\n",
            " [2 2]\n",
            " [2 2]\n",
            " [4 4]\n",
            " [4 4]\n",
            " [2 2]\n",
            " [2 2]\n",
            " [4 4]\n",
            " [2 2]\n",
            " [2 2]\n",
            " [2 2]\n",
            " [4 4]\n",
            " [4 4]\n",
            " [2 2]\n",
            " [2 2]\n",
            " [4 4]\n",
            " [4 4]\n",
            " [4 4]\n",
            " [4 4]\n",
            " [2 2]\n",
            " [4 4]\n",
            " [2 2]\n",
            " [4 4]\n",
            " [2 2]\n",
            " [2 2]\n",
            " [4 4]\n",
            " [2 2]\n",
            " [2 2]\n",
            " [4 4]\n",
            " [2 2]\n",
            " [2 4]\n",
            " [2 2]\n",
            " [2 2]\n",
            " [4 4]\n",
            " [4 2]\n",
            " [2 2]\n",
            " [2 2]\n",
            " [2 2]\n",
            " [2 2]\n",
            " [4 4]\n",
            " [2 2]\n",
            " [4 4]\n",
            " [2 4]\n",
            " [2 2]\n",
            " [2 2]\n",
            " [4 4]\n",
            " [2 2]\n",
            " [4 4]\n",
            " [4 4]\n",
            " [4 4]\n",
            " [2 2]\n",
            " [2 2]\n",
            " [2 2]\n",
            " [2 4]\n",
            " [2 2]\n",
            " [2 2]\n",
            " [2 2]\n",
            " [4 4]\n",
            " [4 4]\n",
            " [2 2]\n",
            " [2 2]\n",
            " [2 2]\n",
            " [2 2]\n",
            " [4 4]\n",
            " [2 2]\n",
            " [4 4]\n",
            " [2 2]\n",
            " [2 2]\n",
            " [2 2]\n",
            " [4 4]\n",
            " [4 4]\n",
            " [4 4]\n",
            " [2 2]\n",
            " [2 2]]\n"
          ]
        }
      ]
    },
    {
      "cell_type": "code",
      "source": [
        "from sklearn.metrics import confusion_matrix , accuracy_score\n",
        "cm = confusion_matrix(y_test, y_pred)\n",
        "print(cm)\n",
        "accuracy_score(y_test, y_pred)"
      ],
      "metadata": {
        "colab": {
          "base_uri": "https://localhost:8080/"
        },
        "id": "a3vv0V4QC3xI",
        "outputId": "cccb094d-c123-4ba2-83d8-d098bfdbddec"
      },
      "execution_count": null,
      "outputs": [
        {
          "output_type": "stream",
          "name": "stdout",
          "text": [
            "[[78  1]\n",
            " [ 4 54]]\n"
          ]
        },
        {
          "output_type": "execute_result",
          "data": {
            "text/plain": [
              "0.9635036496350365"
            ]
          },
          "metadata": {},
          "execution_count": 13
        }
      ]
    },
    {
      "cell_type": "code",
      "source": [
        "from sklearn.model_selection import cross_val_score\n",
        "accuracies = cross_val_score(estimator = lr, X = X_train, y = y_train, cv = 10)\n",
        "print(\"Accuracy: {:.2f} %\".format(accuracies.mean()*100))\n",
        "print(\"Standard Deviation: {:.2f} %\".format(accuracies.std()*100))"
      ],
      "metadata": {
        "colab": {
          "base_uri": "https://localhost:8080/"
        },
        "id": "cS_1AIi9DWm_",
        "outputId": "4c6cf54f-98ac-4425-9b3e-91dddbb8f78a"
      },
      "execution_count": null,
      "outputs": [
        {
          "output_type": "stream",
          "name": "stdout",
          "text": [
            "Accuracy: 96.71 %\n",
            "Standard Deviation: 2.13 %\n"
          ]
        }
      ]
    }
  ]
}